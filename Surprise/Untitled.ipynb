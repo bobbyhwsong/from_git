{
 "cells": [
  {
   "cell_type": "code",
   "execution_count": 2,
   "id": "2aace1fe-2aa9-4963-a53e-8a1d949f4848",
   "metadata": {},
   "outputs": [],
   "source": [
    "from surprise import KNNBasic, Dataset, Reader"
   ]
  },
  {
   "cell_type": "code",
   "execution_count": null,
   "id": "2aeb0312-ca19-4cf4-b628-a4708063d8f3",
   "metadata": {},
   "outputs": [],
   "source": [
    "from collections import defaultdict\n",
    "from operator import itemgetter\n"
   ]
  }
 ],
 "metadata": {
  "kernelspec": {
   "display_name": "pp (torch)",
   "language": "python",
   "name": "pp"
  },
  "language_info": {
   "codemirror_mode": {
    "name": "ipython",
    "version": 3
   },
   "file_extension": ".py",
   "mimetype": "text/x-python",
   "name": "python",
   "nbconvert_exporter": "python",
   "pygments_lexer": "ipython3",
   "version": "3.6.13"
  }
 },
 "nbformat": 4,
 "nbformat_minor": 5
}
