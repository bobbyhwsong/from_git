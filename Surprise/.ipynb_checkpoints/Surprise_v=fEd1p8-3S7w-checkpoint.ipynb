{
 "cells": [
  {
   "cell_type": "code",
   "execution_count": 2,
   "id": "2aace1fe-2aa9-4963-a53e-8a1d949f4848",
   "metadata": {},
   "outputs": [],
   "source": [
    "from surprise import KNNBasic, Dataset, Reader"
   ]
  },
  {
   "cell_type": "code",
   "execution_count": 3,
   "id": "2aeb0312-ca19-4cf4-b628-a4708063d8f3",
   "metadata": {},
   "outputs": [],
   "source": [
    "from collections import defaultdict\n",
    "from operator import itemgetter\n",
    "\n",
    "import heapq\n",
    "import os\n",
    "import csv"
   ]
  },
  {
   "cell_type": "code",
   "execution_count": 7,
   "id": "c9184151-a8cc-4673-a510-2c706fc570d6",
   "metadata": {},
   "outputs": [],
   "source": [
    "def load_dataset():\n",
    "    ratings_dataset = 0\n",
    "    reader = Reader(line_format='user item rating timestamp', sep=',', skip_lines=1)\n",
    "    ratings_dataset = Dataset.load_from_file('datasets/ml-latest-small/ratings.csv',reader=reader)\n",
    "    \n",
    "    movieID_to_name = {}\n",
    "    with open('datasets/ml-latest-small/movies.csv', newline='', encoding = 'ISO-8859-1') as csvfile:\n",
    "        movie_reader = csv.reader(csvfile)\n",
    "        next(movie_reader)\n",
    "        for row in movie_reader:\n",
    "            movieID = int(row[0])\n",
    "            movie_name = row[1]\n",
    "            movieID_to_name[movieID] = movie_name\n",
    "    return (ratings_dataset, movieID_to_name)\n",
    "\n",
    "dataset, movieID_to_name = load_dataset()\n",
    "\n",
    "trainset = dataset.build_full_trainset()"
   ]
  },
  {
   "cell_type": "code",
   "execution_count": 8,
   "id": "7d9aad96-63ac-4a60-98e1-870756a14932",
   "metadata": {},
   "outputs": [
    {
     "name": "stdout",
     "output_type": "stream",
     "text": [
      "Computing the cosine similarity matrix...\n",
      "Done computing similarity matrix.\n",
      "Computing the cosine similarity matrix...\n",
      "Done computing similarity matrix.\n"
     ]
    }
   ],
   "source": [
    "similarity_matrix = KNNBasic(sim_options={\n",
    "        'name': 'cosine',\n",
    "        'user_based': False\n",
    "        })\\\n",
    "        .fit(trainset)\\\n",
    "        .compute_similarities()"
   ]
  },
  {
   "cell_type": "code",
   "execution_count": 9,
   "id": "39795afa-ef94-4c59-9653-1e807a82875b",
   "metadata": {},
   "outputs": [],
   "source": [
    "# Pick a random user ID, has to be a numeric string.\n",
    "# Play around and see how the final recommendations change\n",
    "# depending on the user! 1-610\n",
    "test_subject = '70'\n",
    "\n",
    "# Get the top K items user rated\n",
    "k = 20"
   ]
  },
  {
   "cell_type": "code",
   "execution_count": 10,
   "id": "6f3d083b-484a-4e5c-9dd5-b2e1e86feda7",
   "metadata": {},
   "outputs": [],
   "source": [
    "# When using Surprise, there are RAW and INNER IDs.\n",
    "# Raw IDs are the IDs, strings or numbers, you use when\n",
    "# creating the trainset. The raw ID will be converted to\n",
    "# an unique integer Surprise can more easily manipulate\n",
    "# for computations.\n",
    "#\n",
    "# So in order to find an user inside the trainset, you\n",
    "# need to convert their RAW ID to the INNER Id. Read\n",
    "# here for more info https://surprise.readthedocs.io/en/stable/FAQ.html#what-are-raw-and-inner-ids\n",
    "test_subject_iid = trainset.to_inner_uid(test_subject)\n",
    "\n",
    "# Get the top K items we rated\n",
    "test_subject_ratings = trainset.ur[test_subject_iid]\n",
    "k_neighbors = heapq.nlargest(k, test_subject_ratings, key=lambda t: t[1])"
   ]
  },
  {
   "cell_type": "code",
   "execution_count": 11,
   "id": "4043d242-bbda-4cce-b016-aeecd72e9bee",
   "metadata": {},
   "outputs": [],
   "source": [
    "# Default dict is basically a standard dictionary,\n",
    "# the difference beeing that it doesn't throw an error\n",
    "# when trying to access a key which does not exist,\n",
    "# instead a new entry, with that key, is created.\n",
    "candidates = defaultdict(float)\n",
    "\n",
    "for itemID, rating in k_neighbors:\n",
    "    try:\n",
    "      similaritities = similarity_matrix[itemID]\n",
    "      for innerID, score in enumerate(similaritities):\n",
    "          candidates[innerID] += score * (rating / 5.0)\n",
    "    except:\n",
    "      continue"
   ]
  },
  {
   "cell_type": "code",
   "execution_count": 12,
   "id": "0df359fc-aae8-4791-a477-03e57143c12a",
   "metadata": {},
   "outputs": [],
   "source": [
    "# Utility we'll use later.\n",
    "def getMovieName(movieID):\n",
    "  if int(movieID) in movieID_to_name:\n",
    "    return movieID_to_name[int(movieID)]\n",
    "  else:\n",
    "      return \"\""
   ]
  },
  {
   "cell_type": "code",
   "execution_count": 13,
   "id": "31bc8d6a-a351-4c8c-a423-0996e10b60f0",
   "metadata": {},
   "outputs": [
    {
     "name": "stdout",
     "output_type": "stream",
     "text": [
      "Movie:  Bride & Prejudice (2004)\n",
      "Movie:  Quo Vadis (1951)\n",
      "Movie:  Safety Last! (1923)\n",
      "Movie:  Infamous (2006)\n",
      "Movie:  Oliver Twist (1948)\n",
      "Movie:  Return of the Secaucus 7 (1980)\n",
      "Movie:  Dark Days (2000)\n",
      "Movie:  Charlotte's Web (2006)\n",
      "Movie:  Only Angels Have Wings (1939)\n",
      "Movie:  Little Women (1949)\n",
      "Movie:  Mr. Deeds Goes to Town (1936)\n"
     ]
    }
   ],
   "source": [
    "# Build a dictionary of movies the user has watched\n",
    "watched = {}\n",
    "for itemID, rating in trainset.ur[test_subject_iid]:\n",
    "  watched[itemID] = 1\n",
    "\n",
    "# Add items to list of user's recommendations\n",
    "# If they are similar to their favorite movies,\n",
    "# AND have not already been watched.\n",
    "recommendations = []\n",
    "\n",
    "position = 0\n",
    "for itemID, rating_sum in sorted(candidates.items(), key=itemgetter(1), reverse=True):\n",
    "  if not itemID in watched:\n",
    "    recommendations.append(getMovieName(trainset.to_raw_iid(itemID)))\n",
    "    position += 1\n",
    "    if (position > 10): break # We only want top 10\n",
    "\n",
    "for rec in recommendations:\n",
    "  print(\"Movie: \", rec)"
   ]
  },
  {
   "cell_type": "code",
   "execution_count": null,
   "id": "8969b750-54d1-4c60-a741-a17c6261002a",
   "metadata": {},
   "outputs": [],
   "source": []
  }
 ],
 "metadata": {
  "kernelspec": {
   "display_name": "pp (torch)",
   "language": "python",
   "name": "pp"
  },
  "language_info": {
   "codemirror_mode": {
    "name": "ipython",
    "version": 3
   },
   "file_extension": ".py",
   "mimetype": "text/x-python",
   "name": "python",
   "nbconvert_exporter": "python",
   "pygments_lexer": "ipython3",
   "version": "3.6.13"
  }
 },
 "nbformat": 4,
 "nbformat_minor": 5
}
